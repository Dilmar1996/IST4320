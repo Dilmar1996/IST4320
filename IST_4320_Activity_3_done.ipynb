{
  "cells": [
    {
      "cell_type": "markdown",
      "metadata": {
        "id": "aKwd0_a-K9lr"
      },
      "source": [
        "Please go through the following in the text:\n",
        "- [Chapter 8 - Lists](https://eng.libretexts.org/Bookshelves/Computer_Science/Book%3A_Python_for_Everybody_(Severance)/08%3A_Lists)\n",
        "- [Chapter 9 - Dictionaries](https://eng.libretexts.org/Bookshelves/Computer_Science/Book%3A_Python_for_Everybody_(Severance)/09%3A_Dictionaries)\n",
        "### Lists and Dictionaries\n",
        "#### Lists"
      ]
    },
    {
      "cell_type": "code",
      "execution_count": null,
      "metadata": {
        "id": "5_4rZnA1YCjm"
      },
      "outputs": [],
      "source": [
        "# A list is a group of items together. You make them with square brackets...\n",
        "list_of_numbers = [1, 2, 3, 4, 5]\n",
        "list_of_strings = ['hello', 'there', 'how', 'are', 'you', 'doing']\n",
        "\n",
        "\n",
        "# You can access items in a list in the same way you would a string\n",
        "# First item uses index 0\n",
        "print(\"First item in list_of_numbers:\", list_of_numbers[0])\n",
        "print(\"First items in list_of_strings:\", list_of_strings[0])\n",
        "\n",
        "#Those fun tricks you learned from strings are here too 😀\n",
        "print(\"Reverse items in list_of_numbers:\", list_of_numbers[::-1])\n",
        "print(\"Slicing! First 2 items in list_of_strings\", list_of_strings[0:2]) #Notice how this still gives us another list, just a shorter one with only 2 items\n",
        "print(\"Is the number 3 in the list_of_numbers:\", 3 in list_of_numbers)\n",
        "print(\"Is the word 'today' in the list_of_strings:\", 'today' in list_of_strings)\n",
        "print(\"Concatenate (combine) two lists together:\", list_of_numbers + list_of_numbers)\n",
        "print(\"Make the list longer by a certain multiple (i.e. repeat 3 times):\", list_of_numbers * 3)"
      ]
    },
    {
      "cell_type": "code",
      "execution_count": null,
      "metadata": {
        "id": "RHsShPljE3Rw"
      },
      "outputs": [],
      "source": [
        "# Maybe you want to make a string from a list... try using join() with any delimiter (something you use to separate characters)\n",
        "\n",
        "# join together with a space ' '\n",
        "list_to_string_space = ' '.join(list_of_strings) #Note: join() is a string method\n",
        "print(list_to_string_space)\n",
        "# join together with a happy face '😀'\n",
        "list_to_string_happy = '😀'.join(list_of_strings)\n",
        "print(list_to_string_happy)"
      ]
    },
    {
      "cell_type": "code",
      "execution_count": null,
      "metadata": {
        "id": "EwJKZ0a4HV2y"
      },
      "outputs": [],
      "source": [
        "# Maybe you want to make a list from a string!\n",
        "# list(): Here's how to tokenize a string (data analytics/science definition: convert text into smaller pieces) into individual characters\n",
        "print(list('mickey'))\n",
        "\n",
        "# split(): Tokenize a string into words by specifying the delimiter (where to break into pieces). The default is an empty space ' '\n",
        "string_of_fruit = 'pears, apples, oranges, lychee, ackee, pawpaw'\n",
        "fruit_list = string_of_fruit.split()\n",
        "print(fruit_list) #oops no, I wanted to split where the comma ',' was\n",
        "fruit_list = string_of_fruit.split(',')\n",
        "print(fruit_list) #that's better :)"
      ]
    },
    {
      "cell_type": "code",
      "execution_count": null,
      "metadata": {
        "id": "1zde-N8gkg0R"
      },
      "outputs": [],
      "source": [
        "# Interesting things about Lists\n",
        "# Unlike strings, a list is MUTABLE meaning it can be changed! \n",
        "some_list = ['Benjamin', 'Baccera']\n",
        "print(\"Misspelled!:\", some_list)\n",
        "#ooh misspelled the last name...😔 let's replace item 2 (remember it has index 1) with the correct name 🙂\n",
        "some_list[1] = 'Becerra'\n",
        "print(\"Correct spelling:\", some_list) #all better! 😀\n",
        "\n",
        "# Lists can have a mix of stuff... even other lists!\n",
        "mixed_list = [1, 2, 3, 'one', 'two', 'three']\n",
        "print(mixed_list)\n",
        "list_of_lists = [list_of_numbers, ['lol', 'wut'], list_of_strings]\n",
        "print(\"A list of lists!🤯:\", list_of_lists)"
      ]
    },
    {
      "cell_type": "code",
      "execution_count": null,
      "metadata": {
        "id": "qxFIrDeIoDSF"
      },
      "outputs": [],
      "source": [
        "# Reading items from a list\n",
        "# We know this already... but this time since we can have MORE stuff within a list, we might have multiple square brackets [][]\n",
        "lol_wut_list = list_of_lists[1] #The second item in list_of_lists is another list!\n",
        "print(lol_wut_list)\n",
        "lol_string = lol_wut_list[0] #The first item in lol_wut_list is a string!\n",
        "print(lol_string)\n",
        "o_string = lol_string[1] #The second item in lol_string is the string 'o'\n",
        "print(o_string)\n",
        "#Ok that was way too much work just to extract 'o'... what if we did it all at once from the original list_of_lists?? 😉\n",
        "print(\"2nd item, then 1st item, then 2nd item again... all at once!:\", list_of_lists[1][0][1])\n",
        "\n",
        "#Note: This is SUCH an annoying part of debugging code, because if you see list_of_lists[1][0][1] you might think 🤔🤨😫😖😤\n",
        "#Hint hint: start taking it apart and seeing where it's coming from... (coming up in an activity)"
      ]
    },
    {
      "cell_type": "code",
      "execution_count": null,
      "metadata": {
        "id": "yC_P9Hsyomri"
      },
      "outputs": [],
      "source": [
        "# Using a list as an iterable\n",
        "# Just a reminder from last lesson! We can use items in a list as an iterable using a for or while loop\n",
        "for items in list_of_numbers: #the word 'items' is just a placeholder for an iterable element... but it's good practice to keep it meaningful\n",
        "    print(items,\"squared is\",items**2)\n"
      ]
    },
    {
      "cell_type": "code",
      "execution_count": 32,
      "metadata": {
        "colab": {
          "base_uri": "https://localhost:8080/"
        },
        "id": "OyTfx6CTnMkJ",
        "outputId": "8c0e0408-6d66-41be-97da-4fb5e387af04"
      },
      "outputs": [
        {
          "output_type": "stream",
          "name": "stdout",
          "text": [
            "Before using pop: ['soda', 'coke', 'pepsi', 'thums up', 'pop tarts', 'squirt']\n",
            "After using pop: ['soda', 'coke', 'pepsi', 'thums up', 'squirt']\n",
            "Saved the popped item!: pop tarts\n",
            "Before using append: ['hand', 'leg', 'head', 'foot']\n",
            "After using append: ['hand', 'leg', 'head', 'foot', 'tail']\n",
            "Before using extend: ['Monday', 'Tuesday', 'Wednesday']\n",
            "After using extend: ['Monday', 'Tuesday', 'Wednesday', 'Thursday', 'Friday']\n",
            "Before sort: [100, 39, 4, -10, 4]\n",
            "After sort: [-10, 4, 4, 39, 100]\n"
          ]
        }
      ],
      "source": [
        "# List Methods\n",
        "# You may have seen this terminology before. A list is a type of \"object\" predefined in python, along with particular \"methods\" that do stuff\n",
        "# Let's use some here. These specifically modify your list and replace it with something else. \n",
        "\n",
        "### pop (not soda 🥤): Removes an item from the list by index number (default is last item).. you can save it for later if you want!\n",
        "pop_list = [\"soda\", \"coke\", \"pepsi\", \"thums up\", \"pop tarts\", \"squirt\"]\n",
        "print(\"Before using pop:\", pop_list)\n",
        "pop_save = pop_list.pop(4) # Let's remove the 5th item (index of 4)... and save it for later!\n",
        "print(\"After using pop:\", pop_list)\n",
        "print(\"Saved the popped item!:\", pop_save)\n",
        "#Did you not want to overwrite pop_list? oops... maybe try something not permanent like pop_list[0:4] + pop_list[5:]\n",
        "\n",
        "### append: Adds an element to the end of the list\n",
        "append_list = [\"hand\", \"leg\", \"head\", \"foot\"]\n",
        "print(\"Before using append:\", append_list)\n",
        "append_list.append('tail')\n",
        "print(\"After using append:\", append_list)\n",
        "#Did you not want to overwrite append_list? oops... Maybe try something like append_list + 'tail'\n",
        "\n",
        "### extend: combines two lists (same as + operator, AND it will overwrite one of your lists!)\n",
        "extend_list = [\"Monday\", \"Tuesday\", \"Wednesday\"]\n",
        "extra_days = [\"Thursday\", \"Friday\"]\n",
        "print(\"Before using extend:\", extend_list)\n",
        "extend_list.extend(extra_days)\n",
        "print(\"After using extend:\", extend_list)\n",
        "#Did you not want to overwrite extend_list? oops... Maybe try something like extend_list + extra_days\n",
        "\n",
        "# sort: rearranges your list from low to high (AND overwrites original list!)\n",
        "sort_me = [100, 39, 4, -10, 4]\n",
        "print(\"Before sort:\", sort_me)\n",
        "\n",
        "sort_me.sort()\n",
        "print(\"After sort:\", sort_me)\n",
        "#Did you not want to overwrite sort_me? oops... Maybe try something like the Python built-in function sorted() (it's not a list method)"
      ]
    },
    {
      "cell_type": "code",
      "execution_count": null,
      "metadata": {
        "id": "riLIX8Yh6Ywd"
      },
      "outputs": [],
      "source": [
        "# Some more helpful list methods...\n",
        "### del: deletes an element by index (but doesn't save it like pop). You can also cut out chunks of a list by slicing\n",
        "list_of_junk = ['hello', 'there', 'my', 'name', \"<base href='http://h4x0rlolol.com/gimme_ur_bitcoin.php'>\", 'is', 'ben','&nbsp','<br>','<p>','😇','%20']\n",
        "print(\"Before using del:\", list_of_junk)\n",
        "del list_of_junk[4] # the syntax is slightly different\n",
        "print(\"After using del for a single item:\", list_of_junk)\n",
        "del list_of_junk[6:9] # the syntax is slightly different\n",
        "print(\"After using del for a range of items:\", list_of_junk)\n",
        "\n",
        "### remove: deletes an element, but useful if you don't know the index (doesn't save it either)\n",
        "list_of_junk.remove('%20')\n",
        "print(\"After using remove:\", list_of_junk)"
      ]
    },
    {
      "cell_type": "code",
      "execution_count": 45,
      "metadata": {
        "colab": {
          "base_uri": "https://localhost:8080/"
        },
        "id": "GKowT2gQ-L3q",
        "outputId": "f5768548-13d9-439c-f91a-908891e21e52"
      },
      "outputs": [
        {
          "output_type": "stream",
          "name": "stdout",
          "text": [
            "How many items are in long_list?: 23\n",
            "What's the maximum number in long_list?: 9\n",
            "What's the minimum number in long_list?: 0\n",
            "What's the sum of numbers in long_list?: 106\n"
          ]
        }
      ],
      "source": [
        "### Super useful functions of lists!\n",
        "# You'll be using lists all. the. time. so might as well practice some useful functions!\n",
        "### len: Count how many items are in a list\n",
        "long_list = [1,4,3,2,5,7,7,4,3,2,6,8,9,5,5,3,0,8,6,5,4,3,6]\n",
        "print(\"How many items are in long_list?:\", len(long_list))\n",
        "\n",
        "### min and max: get the minimum and maximum value in a list\n",
        "print(\"What's the maximum number in long_list?:\", max(long_list))\n",
        "print(\"What's the minimum number in long_list?:\", min(long_list))\n",
        "\n",
        "### sum: add up all the items in a list (must have int or float types as items)\n",
        "print(\"What's the sum of numbers in long_list?:\", sum(long_list))"
      ]
    },
    {
      "cell_type": "code",
      "execution_count": 46,
      "metadata": {
        "id": "jOh9wHHJ094M",
        "tags": [],
        "colab": {
          "base_uri": "https://localhost:8080/"
        },
        "outputId": "a7158959-d25e-4276-fa89-d63918d4c99d"
      },
      "outputs": [
        {
          "output_type": "stream",
          "name": "stdout",
          "text": [
            "Help on class list in module builtins:\n",
            "\n",
            "class list(object)\n",
            " |  list(iterable=(), /)\n",
            " |  \n",
            " |  Built-in mutable sequence.\n",
            " |  \n",
            " |  If no argument is given, the constructor creates a new empty list.\n",
            " |  The argument must be an iterable if specified.\n",
            " |  \n",
            " |  Methods defined here:\n",
            " |  \n",
            " |  __add__(self, value, /)\n",
            " |      Return self+value.\n",
            " |  \n",
            " |  __contains__(self, key, /)\n",
            " |      Return key in self.\n",
            " |  \n",
            " |  __delitem__(self, key, /)\n",
            " |      Delete self[key].\n",
            " |  \n",
            " |  __eq__(self, value, /)\n",
            " |      Return self==value.\n",
            " |  \n",
            " |  __ge__(self, value, /)\n",
            " |      Return self>=value.\n",
            " |  \n",
            " |  __getattribute__(self, name, /)\n",
            " |      Return getattr(self, name).\n",
            " |  \n",
            " |  __getitem__(...)\n",
            " |      x.__getitem__(y) <==> x[y]\n",
            " |  \n",
            " |  __gt__(self, value, /)\n",
            " |      Return self>value.\n",
            " |  \n",
            " |  __iadd__(self, value, /)\n",
            " |      Implement self+=value.\n",
            " |  \n",
            " |  __imul__(self, value, /)\n",
            " |      Implement self*=value.\n",
            " |  \n",
            " |  __init__(self, /, *args, **kwargs)\n",
            " |      Initialize self.  See help(type(self)) for accurate signature.\n",
            " |  \n",
            " |  __iter__(self, /)\n",
            " |      Implement iter(self).\n",
            " |  \n",
            " |  __le__(self, value, /)\n",
            " |      Return self<=value.\n",
            " |  \n",
            " |  __len__(self, /)\n",
            " |      Return len(self).\n",
            " |  \n",
            " |  __lt__(self, value, /)\n",
            " |      Return self<value.\n",
            " |  \n",
            " |  __mul__(self, value, /)\n",
            " |      Return self*value.\n",
            " |  \n",
            " |  __ne__(self, value, /)\n",
            " |      Return self!=value.\n",
            " |  \n",
            " |  __repr__(self, /)\n",
            " |      Return repr(self).\n",
            " |  \n",
            " |  __reversed__(self, /)\n",
            " |      Return a reverse iterator over the list.\n",
            " |  \n",
            " |  __rmul__(self, value, /)\n",
            " |      Return value*self.\n",
            " |  \n",
            " |  __setitem__(self, key, value, /)\n",
            " |      Set self[key] to value.\n",
            " |  \n",
            " |  __sizeof__(self, /)\n",
            " |      Return the size of the list in memory, in bytes.\n",
            " |  \n",
            " |  append(self, object, /)\n",
            " |      Append object to the end of the list.\n",
            " |  \n",
            " |  clear(self, /)\n",
            " |      Remove all items from list.\n",
            " |  \n",
            " |  copy(self, /)\n",
            " |      Return a shallow copy of the list.\n",
            " |  \n",
            " |  count(self, value, /)\n",
            " |      Return number of occurrences of value.\n",
            " |  \n",
            " |  extend(self, iterable, /)\n",
            " |      Extend list by appending elements from the iterable.\n",
            " |  \n",
            " |  index(self, value, start=0, stop=9223372036854775807, /)\n",
            " |      Return first index of value.\n",
            " |      \n",
            " |      Raises ValueError if the value is not present.\n",
            " |  \n",
            " |  insert(self, index, object, /)\n",
            " |      Insert object before index.\n",
            " |  \n",
            " |  pop(self, index=-1, /)\n",
            " |      Remove and return item at index (default last).\n",
            " |      \n",
            " |      Raises IndexError if list is empty or index is out of range.\n",
            " |  \n",
            " |  remove(self, value, /)\n",
            " |      Remove first occurrence of value.\n",
            " |      \n",
            " |      Raises ValueError if the value is not present.\n",
            " |  \n",
            " |  reverse(self, /)\n",
            " |      Reverse *IN PLACE*.\n",
            " |  \n",
            " |  sort(self, /, *, key=None, reverse=False)\n",
            " |      Sort the list in ascending order and return None.\n",
            " |      \n",
            " |      The sort is in-place (i.e. the list itself is modified) and stable (i.e. the\n",
            " |      order of two equal elements is maintained).\n",
            " |      \n",
            " |      If a key function is given, apply it once to each list item and sort them,\n",
            " |      ascending or descending, according to their function values.\n",
            " |      \n",
            " |      The reverse flag can be set to sort in descending order.\n",
            " |  \n",
            " |  ----------------------------------------------------------------------\n",
            " |  Static methods defined here:\n",
            " |  \n",
            " |  __new__(*args, **kwargs) from builtins.type\n",
            " |      Create and return a new object.  See help(type) for accurate signature.\n",
            " |  \n",
            " |  ----------------------------------------------------------------------\n",
            " |  Data and other attributes defined here:\n",
            " |  \n",
            " |  __hash__ = None\n",
            "\n"
          ]
        }
      ],
      "source": [
        "#You memorized all those methods of lists, right?!? 🙄\n",
        "#No worries 😁, you can always view them (and more!) by using help()\n",
        "help(list)"
      ]
    },
    {
      "cell_type": "code",
      "execution_count": null,
      "metadata": {
        "id": "tiRQnT2SLZe2"
      },
      "outputs": [],
      "source": [
        "###List Comprehensions\n",
        "# You can create a new list based on an existing list or another iterable\n",
        "# quite easily with a List Comprehension https://www.w3schools.com/python/python_lists_comprehension.asp\n",
        "# A list comprehension let's you combine 1) making a list, 2) a for loop, AND 3) an if statement all in one line of code! 😀\n",
        "# This is sooooo useful and you will use it again and again\n",
        "\n",
        "# make a new list based off iterable, for every i in 0,1,2...9\n",
        "list_0_to_9 = [i for i in range(0,10)] \n",
        "print(list_0_to_9)\n",
        "\n",
        "# make a new list based off existing list, but take even numbers only (even number is when you divide by 2 and remainder == 0)\n",
        "even_only = [i for i in list_0_to_9 if i % 2 == 0] \n",
        "print(even_only)\n",
        "\n"
      ]
    },
    {
      "cell_type": "code",
      "execution_count": null,
      "metadata": {
        "id": "rJcZF0FShNYj"
      },
      "outputs": [],
      "source": [
        "# don't forget to use an iterable!\n",
        "list_0_to_9 = [i for i in 10] # 10 is an int and not a iterable object! Consider another list, a range() sequence, tuples (coming next time), etc.\n",
        "print(list_0_to_9)\n",
        "#10 is not an iterable! If you are using len(), remember that is also just an int object! Convert to range() and that will be iterable 😀"
      ]
    },
    {
      "cell_type": "markdown",
      "metadata": {
        "id": "WD6qnFChUl8s"
      },
      "source": [
        "### Dictionaries 📕"
      ]
    },
    {
      "cell_type": "code",
      "execution_count": 63,
      "metadata": {
        "colab": {
          "base_uri": "https://localhost:8080/"
        },
        "id": "goFbrm5mKgVi",
        "outputId": "8fcdee37-9143-4d01-cefe-aba49d9e6f66"
      },
      "outputs": [
        {
          "output_type": "stream",
          "name": "stdout",
          "text": [
            "{'001234567': 'Generic Student', '009876543': 'Another Student', '000000001': 'Cody Coyote'}\n",
            "Student with ID '000000001' is: Cody Coyote\n",
            "There are 3 students.\n",
            "List of dictionary values: ['Generic Student', 'Another Student', 'Cody Coyote']\n",
            "List of dictionary keys: ['001234567', '009876543', '000000001']\n",
            "List of dictionary key-value pairs: [('001234567', 'Generic Student'), ('009876543', 'Another Student'), ('000000001', 'Cody Coyote')]\n"
          ]
        }
      ],
      "source": [
        "# Dictionaries are similar to lists, except they act as a key-value store in an associative array hash table\n",
        "# Dictionaries are mutable and can be changed\n",
        "\n",
        "# Notice we create a dictionary with curly braces {} and the key:value pairs are separated by commas\n",
        "students = {'001234567': 'Generic Student', '009876543': 'Another Student', '000000001':'Cody Coyote'}\n",
        "print(students)\n",
        "\n",
        "# Let's access a value with the key '0000000001'\n",
        "print(\"Student with ID '000000001' is:\", students['000000001'])\n",
        "\n",
        "# How many students are there? use len()\n",
        "print(\"There are\", len(students), \"students.\")\n",
        "\n",
        "# Maybe I only want the values into a list\n",
        "print(\"List of dictionary values:\", list(students.values()))\n",
        "\n",
        "# Maybe I want the keys into a list\n",
        "print(\"List of dictionary keys:\", list(students.keys()))\n",
        "\n",
        "# Maybe I want each key-value pair (an item of a dictionary) into a list\n",
        "print(\"List of dictionary key-value pairs:\", list(students.items()))\n",
        "\n",
        "# Am I in the list of students??\n",
        "#students['003574622']  \n",
        "#KeyError! Nope...\n"
      ]
    },
    {
      "cell_type": "code",
      "execution_count": null,
      "metadata": {
        "id": "w8ky_H1GTUmo"
      },
      "outputs": [],
      "source": [
        "# That key error is kind of annoying. It will totally stop my code. I could do a try/except, but an easier way is get()\n",
        "# This let's you lookup the value for a key, but if it fails it will output whatever you want in the second argument\n",
        "students.get('003574622','Sorry, that student is not present in this database.')"
      ]
    },
    {
      "cell_type": "code",
      "execution_count": 70,
      "metadata": {
        "colab": {
          "base_uri": "https://localhost:8080/"
        },
        "id": "Ds5HNMuHT9oS",
        "outputId": "ca97b253-7bab-4e6f-d028-f427d1c94a9c"
      },
      "outputs": [
        {
          "output_type": "stream",
          "name": "stdout",
          "text": [
            "Make a copy: {'001234567': 'Generic Student', '009876543': 'Another Student', '000000001': 'Cody Coyote'}\n",
            "Split name into [first,last]: {'001234567': ['Generic', 'Student'], '009876543': ['Another', 'Student'], '000000001': ['Cody', 'Coyote']}\n",
            "Reverse key and values: {'Generic Student': '001234567', 'Another Student': '009876543', 'Cody Coyote': '000000001'}\n",
            "{'001234567': 'Generic Student', '009876543': 'Another Student', '000000001': 'Cody Coyote', '003574622': 'Ben Becerra'}\n"
          ]
        }
      ],
      "source": [
        "## Dictionary comprehensions!\n",
        "# very similar to list comprehensions, but don't forget the key:value should both have an iterator\n",
        "\n",
        "# Makes a copy of the original dictionary\n",
        "students_copy = {key:value for (key,value) in students.items()} #(key, value) is a tuple... that's coming up 😀\n",
        "print(\"Make a copy:\", students_copy)\n",
        "\n",
        "# Hmm maybe we can split the name value and replace it with a list of [last name, first name]\n",
        "student_rename =  {key:value.split() for (key,value) in students.items()}\n",
        "print(\"Split name into [first,last]:\", student_rename)\n",
        "\n",
        "# What if we wanted to reverse keys and values?? 🙃\n",
        "students_reverse = {value:key for (key,value) in students.items()}\n",
        "print(\"Reverse key and values:\", students_reverse)\n",
        "\n",
        "# What about adding a new dictionary entry (a new student)? Use update()\n",
        "new_student = {'003574622':'Ben Becerra'}\n",
        "students.update(new_student)\n",
        "print(students)\n"
      ]
    },
    {
      "cell_type": "code",
      "execution_count": 71,
      "metadata": {
        "colab": {
          "base_uri": "https://localhost:8080/"
        },
        "id": "r4FrVtagPle-",
        "outputId": "819ca6a6-e6a7-4899-c947-3f8ccec89510"
      },
      "outputs": [
        {
          "output_type": "stream",
          "name": "stdout",
          "text": [
            "A Nested List Example:\n",
            " {'001234567': ['Generic Student', 'Business Intelligence and Analytics'], '009876543': ['Another Student', 'Cyber Security'], '000000001': ['Cody Coyote', 'CSUSB'], '003574622': ['Ben Becerra', 'N/A']}\n",
            "A Nested Dictionary Example:\n",
            " {'001234567': [{'Total Units': 20}, ['Generic Student', 'Business Intelligence and Analytics']], '009876543': [{'Total Units': 34}, ['Another Student', 'Cyber Security']], '000000001': [{'Total Units': 0}, ['Cody Coyote', 'CSUSB']], '003574622': [{'Total Units': 10000}, ['Ben Becerra', 'N/A']]}\n"
          ]
        }
      ],
      "source": [
        "## A Nested List in a Dictionaries\n",
        "student_major = ['Business Intelligence and Analytics', 'Cyber Security', 'CSUSB', 'N/A']\n",
        "students_list_nested = {k:[v,major] for ((k,v),major) in zip(students.items(), student_major)} #zip creates an iterator\n",
        "print(\"A Nested List Example:\\n\", students_list_nested)\n",
        "\n",
        "## A Nested Dictionary in a Dictionary\n",
        "students_dict_nested = {k:[{\"Total Units\":units},v] for ((k,v),units) in zip(students_list_nested.items(),[20,34,0,10000])}\n",
        "print(\"A Nested Dictionary Example:\\n\", students_dict_nested)"
      ]
    },
    {
      "cell_type": "code",
      "execution_count": 72,
      "metadata": {
        "colab": {
          "base_uri": "https://localhost:8080/"
        },
        "id": "jKioWmlhWubk",
        "outputId": "cf6ed336-5b82-4af3-9f9c-bcf6d316c522"
      },
      "outputs": [
        {
          "output_type": "stream",
          "name": "stdout",
          "text": [
            "[{'Total Units': 20}, ['Generic Student', 'Business Intelligence and Analytics']]\n",
            "{'Total Units': 20}\n",
            "20\n",
            "[20]\n"
          ]
        }
      ],
      "source": [
        "## Super important! Parsing data from a dictionary\n",
        "# Maybe I want to get a list of the total units per student. Take it one step at a time 😀 You'll eventually develop your own strategy.\n",
        "\n",
        "# Strategy: Break it down slowly to understand the structure\n",
        "print(students_dict_nested.get(\"001234567\")) #This is a list (you can tell from []) with 3 elements. I want the first element [0]\n",
        "\n",
        "print(students_dict_nested.get(\"001234567\")[0]) #OK this is now a dictionary (Notice the {}). I want the value (not the key)\n",
        "\n",
        "print(students_dict_nested.get(\"001234567\")[0].get(\"Total Units\")) #That's the value we want! Make it into a list!\n",
        "\n",
        "print([students_dict_nested.get(\"001234567\")[0].get(\"Total Units\")]) #Great! But that's only one number...\n"
      ]
    },
    {
      "cell_type": "code",
      "execution_count": 73,
      "metadata": {
        "colab": {
          "base_uri": "https://localhost:8080/"
        },
        "id": "ShkfUJrNYihm",
        "outputId": "b6320534-5211-4249-efa0-368d9b6c9271"
      },
      "outputs": [
        {
          "output_type": "stream",
          "name": "stdout",
          "text": [
            "[20, 34, 0, 10000]\n"
          ]
        }
      ],
      "source": [
        "# Now you have a general idea of the structure to get the values you want. Let's try a list comprehension again to make a new list\n",
        "[students_dict_nested.get(\"001234567\")[0].get(\"Total Units\")] \n",
        "\n",
        "# hmm... so the 001234567 is a key. Let's replace it with some arbitrary iterator \"key\" (you could have called it whatever like banana and it'll work)\n",
        "# and we also should include an iterable. Earlier we used the the key-value pairs with .items(), but we are only using the keys, so .keys() is good\n",
        "list_of_units = [students_dict_nested.get(key)[0].get(\"Total Units\") for key in students_dict_nested.keys()] #Success!\n",
        "print(list_of_units) #Success!\n",
        "\n",
        "# So now this gives a better idea of where long code comes from... practice explaining in plain words what this does!!\n",
        "\n",
        "# Explanation: list_of_units is a list object created from the students_dict_nested dictionary object. For every key, the value of \n",
        "# this dictionary has two elements, a dictionary in [0] and a list in [1]. Using the dictionary in index [0], we access the \n",
        "# total units available by using the new key \"Total Units\". This is done for every dictionary entry in students_dict_nested until we have\n",
        "# a final list of four items."
      ]
    },
    {
      "cell_type": "markdown",
      "metadata": {
        "id": "8FNB9xJdHXCl"
      },
      "source": [
        "#### Lists and Dictionaries - Practice Exercises\n"
      ]
    },
    {
      "cell_type": "code",
      "execution_count": 43,
      "metadata": {
        "id": "syWUy2SoGF4j",
        "colab": {
          "base_uri": "https://localhost:8080/"
        },
        "outputId": "ae961f52-4fd8-4d29-b511-64dab8de8dd4"
      },
      "outputs": [
        {
          "output_type": "stream",
          "name": "stdout",
          "text": [
            "This is the min: 1\n",
            "This is the max: 13\n",
            "This is the sum: 41\n"
          ]
        }
      ],
      "source": [
        "# 1a - Make a list object of the numbers 1,4,6,8,9,13\n",
        "number_list = [1,4,6,8,9,13] # fix the code :)\n",
        "\n",
        "# 1b - Write code to describe the number of elements, minimum, max, and sum.\n",
        "print(\"This is the min:\", min(number_list))\n",
        "print(\"This is the max:\", max(number_list))\n",
        "print(\"This is the sum:\", sum(number_list))"
      ]
    },
    {
      "cell_type": "code",
      "execution_count": 44,
      "metadata": {
        "id": "7rEEVVQlIgzV",
        "colab": {
          "base_uri": "https://localhost:8080/"
        },
        "outputId": "a5378e77-0a9a-44ec-944b-69bca7d9af9d"
      },
      "outputs": [
        {
          "output_type": "stream",
          "name": "stdout",
          "text": [
            "8\n",
            "13\n"
          ]
        }
      ],
      "source": [
        "#2a - I want to delete the number 8 in the list. Fix the code so it works :)\n",
        "save_8 = number_list.pop(3)\n",
        "print(save_8)\n",
        "#2b - Help me save the last element 13 into an integer object number_13\n",
        "number_13 = number_list[4]\n",
        "print(number_13)"
      ]
    },
    {
      "cell_type": "code",
      "execution_count": 81,
      "metadata": {
        "id": "MONruuandRtH",
        "colab": {
          "base_uri": "https://localhost:8080/"
        },
        "outputId": "7a19638d-4c85-4161-dad1-eb5dd9a9c013"
      },
      "outputs": [
        {
          "output_type": "stream",
          "name": "stdout",
          "text": [
            "['A', 'Dictionary', 'in', 'Python', 'works', 'similar', 'to', 'the', 'Dictionary', 'in', 'the', 'real', 'world.', 'Keys', 'of', 'a', 'Dictionary', 'must', 'be', 'unique', 'and', 'of', 'immutable', 'data', 'type', 'such', 'as', 'Strings,', 'Integers', 'and', 'tuples,', 'but', 'the', 'key-values', 'can', 'be', 'repeated', 'and', 'be', 'of', 'any', 'type.']\n",
            "['A Dictionary in Python works similar to the Dictionary in the real world']\n"
          ]
        }
      ],
      "source": [
        "#3a - convert the following text string into a list\n",
        "#Example \"hello there\" becomes [\"hello\",\"there\"]\n",
        "text_string = \"A Dictionary in Python works similar to the Dictionary in the real world. Keys of a Dictionary must be unique and of immutable data type such as Strings, Integers and tuples, but the key-values can be repeated and be of any type.\"\n",
        "Q3_list = text_string.split()\n",
        "print(Q3_list)\n",
        "#3b - Use slicing to only show the first sentence in the text_string list object\n",
        "new = text_string.split(\".\")\n",
        "print([new[0]])\n",
        "\n"
      ]
    },
    {
      "cell_type": "code",
      "execution_count": 80,
      "metadata": {
        "colab": {
          "base_uri": "https://localhost:8080/"
        },
        "id": "giIRD_A-KWOB",
        "outputId": "6afb6a5c-7f83-4fdb-a832-93d73e5a4a0f",
        "tags": []
      },
      "outputs": [
        {
          "output_type": "stream",
          "name": "stdout",
          "text": [
            "[{'Series': 'I', 'X': 10.0, 'Y': 8.04}, {'Series': 'I', 'X': 8.0, 'Y': 6.95}, {'Series': 'I', 'X': 13.0, 'Y': 7.58}, {'Series': 'I', 'X': 9.0, 'Y': 8.81}, {'Series': 'I', 'X': 11.0, 'Y': 8.33}, {'Series': 'I', 'X': 14.0, 'Y': 9.96}, {'Series': 'I', 'X': 6.0, 'Y': 7.24}, {'Series': 'I', 'X': 4.0, 'Y': 4.26}, {'Series': 'I', 'X': 12.0, 'Y': 10.84}, {'Series': 'I', 'X': 7.0, 'Y': 4.81}, {'Series': 'I', 'X': 5.0, 'Y': 5.68}, {'Series': 'II', 'X': 10.0, 'Y': 9.14}, {'Series': 'II', 'X': 8.0, 'Y': 8.14}, {'Series': 'II', 'X': 13.0, 'Y': 8.74}, {'Series': 'II', 'X': 9.0, 'Y': 8.77}, {'Series': 'II', 'X': 11.0, 'Y': 9.26}, {'Series': 'II', 'X': 14.0, 'Y': 8.1}, {'Series': 'II', 'X': 6.0, 'Y': 6.13}, {'Series': 'II', 'X': 4.0, 'Y': 3.1}, {'Series': 'II', 'X': 12.0, 'Y': 9.13}, {'Series': 'II', 'X': 7.0, 'Y': 7.26}, {'Series': 'II', 'X': 5.0, 'Y': 4.74}, {'Series': 'III', 'X': 10.0, 'Y': 7.46}, {'Series': 'III', 'X': 8.0, 'Y': 6.77}, {'Series': 'III', 'X': 13.0, 'Y': 12.74}, {'Series': 'III', 'X': 9.0, 'Y': 7.11}, {'Series': 'III', 'X': 11.0, 'Y': 7.81}, {'Series': 'III', 'X': 14.0, 'Y': 8.84}, {'Series': 'III', 'X': 6.0, 'Y': 6.08}, {'Series': 'III', 'X': 4.0, 'Y': 5.39}, {'Series': 'III', 'X': 12.0, 'Y': 8.15}, {'Series': 'III', 'X': 7.0, 'Y': 6.42}, {'Series': 'III', 'X': 5.0, 'Y': 5.73}, {'Series': 'IV', 'X': 8.0, 'Y': 6.58}, {'Series': 'IV', 'X': 8.0, 'Y': 5.76}, {'Series': 'IV', 'X': 8.0, 'Y': 7.71}, {'Series': 'IV', 'X': 8.0, 'Y': 8.84}, {'Series': 'IV', 'X': 8.0, 'Y': 8.47}, {'Series': 'IV', 'X': 8.0, 'Y': 7.04}, {'Series': 'IV', 'X': 8.0, 'Y': 5.25}, {'Series': 'IV', 'X': 19.0, 'Y': 12.5}, {'Series': 'IV', 'X': 8.0, 'Y': 5.56}, {'Series': 'IV', 'X': 8.0, 'Y': 7.91}, {'Series': 'IV', 'X': 8.0, 'Y': 6.89}]\n",
            "{'Series': 'I', 'X': 10.0, 'Y': 8.04}\n",
            "[10.0, 8.04]\n"
          ]
        }
      ],
      "source": [
        "#4a - This data is in json format (which converts to dictionary very well!).\n",
        "# Extract the first element in the list\n",
        "import json\n",
        " \n",
        "# Opening JSON file\n",
        "with open('anscombe.json') as json_file:\n",
        "    data = json.load(json_file)\n",
        "print(data) #Extract the first element from here! HINT: What type of object is it? type() can help\n",
        "\n",
        "print(data[0])\n",
        "\n",
        "#4b - Now extract the 'X' and 'Y' values from the first element of the original list only. Place them into a list 😀. This could be challenging...\n",
        "# Example: [10.0, 8.04]\n",
        "data_2 = data[0]\n",
        "\n",
        "data_3 = [data_2.get(\"X\")]\n",
        "data_4 = [data_2.get(\"Y\")]\n",
        "final_data = data_3 + data_4\n",
        "print(final_data)\n",
        "\n",
        "\n",
        "#4c - OPTIONAL: OK MORE of a challenge... NOW that you got the first element's X and Y values, keep going! Generate a final list of lists\n",
        "# Example: [[10.0, 8.04], [8.0, 6.95], [13.0, 7.58], [9.0, 8.81], ...,] \n",
        "# Hint: use the iterable range(len(data))\n"
      ]
    },
    {
      "cell_type": "markdown",
      "metadata": {
        "id": "lGYOk9dSxxUF"
      },
      "source": [
        "Copyright Benjamin J. Becerra v2022.02.02.0\n",
        "\n",
        "\n"
      ]
    }
  ],
  "metadata": {
    "colab": {
      "provenance": []
    },
    "kernelspec": {
      "display_name": "Python 3 (ipykernel)",
      "language": "python",
      "name": "python3"
    },
    "language_info": {
      "codemirror_mode": {
        "name": "ipython",
        "version": 3
      },
      "file_extension": ".py",
      "mimetype": "text/x-python",
      "name": "python",
      "nbconvert_exporter": "python",
      "pygments_lexer": "ipython3",
      "version": "3.9.7"
    }
  },
  "nbformat": 4,
  "nbformat_minor": 0
}